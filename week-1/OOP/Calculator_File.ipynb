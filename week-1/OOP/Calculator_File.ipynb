{
 "cells": [
  {
   "cell_type": "code",
   "execution_count": null,
   "metadata": {},
   "outputs": [],
   "source": [
    "class Calculator:\n",
    "    def __init__(self, data):\n",
    "        self.data = data\n",
    "        self.update_stats()\n",
    "    \n",
    "    def update_stats(self):\n",
    "        self.length = len(self.data)\n",
    "        self.mean = self.calc_mean()\n",
    "        self.median = self.calc_median()\n",
    "        self.variance = self.calc_var()\n",
    "        self.standev = self.calc_std()\n",
    "    \n",
    "    def calc_mean(self):\n",
    "        mean = sum(self.data) / len(self.data)\n",
    "        return mean\n",
    "    \n",
    "    def calc_median(self):\n",
    "        #self.data.sort()\n",
    "        if len(self.data) % 2 != 0:\n",
    "            return self.data[int(len(self.data)/2)]\n",
    "        elif len(self.data) %2 == 0:\n",
    "            datum1 = self.data[int((len(self.data))/2)]\n",
    "            datum2 = self.data[int(((len(self.data))-1 )/2)]\n",
    "            median = (datum1 + datum2) / 2\n",
    "            return median\n",
    "    \n",
    "    def calc_var(self):\n",
    "        # get the mean\n",
    "        n = self.length\n",
    "        mean = self.mean\n",
    "        # substract each value from the mean and raise the value power of 2\n",
    "        variance  = list(map(lambda x: (x-mean)**2/(n-1) ,self.data))\n",
    "        var_sum = sum(variance)\n",
    "        return var_sum\n",
    "    \n",
    "    def calc_std(self): \n",
    "        return self.variance**0.5\n",
    "    \n",
    "    def add_data(self, new_data):\n",
    "        self.data.extend(new_data)\n",
    "        self.update_stats()\n",
    "        return\n",
    "    def remove_data(self, index = None):\n",
    "        del(self.data[index])\n",
    "        #del(self.data, index)\n",
    "        self.update_stats()"
   ]
  },
  {
   "cell_type": "code",
   "execution_count": null,
   "metadata": {},
   "outputs": [],
   "source": []
  }
 ],
 "metadata": {
  "kernelspec": {
   "display_name": "Python 3",
   "language": "python",
   "name": "python3"
  },
  "language_info": {
   "codemirror_mode": {
    "name": "ipython",
    "version": 3
   },
   "file_extension": ".py",
   "mimetype": "text/x-python",
   "name": "python",
   "nbconvert_exporter": "python",
   "pygments_lexer": "ipython3",
   "version": "3.7.3"
  }
 },
 "nbformat": 4,
 "nbformat_minor": 2
}
