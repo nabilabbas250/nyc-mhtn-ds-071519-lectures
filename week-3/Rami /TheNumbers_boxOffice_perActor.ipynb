{
 "cells": [
  {
   "cell_type": "code",
   "execution_count": 2,
   "metadata": {},
   "outputs": [],
   "source": [
    "import requests\n",
    "import config\n",
    "import mysql.connector\n",
    "import json\n",
    "from bs4 import BeautifulSoup\n",
    "import time"
   ]
  },
  {
   "cell_type": "code",
   "execution_count": 8,
   "metadata": {},
   "outputs": [],
   "source": [
    "html_page = requests.get(\"https://www.the-numbers.com/box-office-star-records/worldwide/lifetime-acting/top-grossing-leading-stars\")\n",
    "soup = BeautifulSoup(html_page.content, \"html.parser\")\n",
    "\n",
    "div = soup.find(\"tbody\")\n",
    "\n",
    "grossing_stars = list(map(lambda x: x.text, div.findAll('td')))\n",
    "# grossing_stars\n"
   ]
  },
  {
   "cell_type": "code",
   "execution_count": 6,
   "metadata": {},
   "outputs": [
    {
     "data": {
      "text/plain": [
       "100"
      ]
     },
     "execution_count": 6,
     "metadata": {},
     "output_type": "execute_result"
    }
   ],
   "source": [
    "top_grossing_stars = []\n",
    "i = 0\n",
    "\n",
    "\n",
    "for num in range(int( len(grossing_stars) / 5 )):\n",
    "\n",
    "    rating = dict([('rank', grossing_stars[i]), ('name', grossing_stars[i+1]), \n",
    "                   ('WW_box', grossing_stars[i+2]), ('num_movies', grossing_stars[i+3]),\n",
    "                   ('avg_per_movie', grossing_stars[i+4])])\n",
    "    i += 5\n",
    "    top_grossing_stars.append(rating)\n",
    "    \n",
    "top_grossing_stars"
   ]
  },
  {
   "cell_type": "code",
   "execution_count": 9,
   "metadata": {},
   "outputs": [
    {
     "ename": "UnboundLocalError",
     "evalue": "local variable 'i' referenced before assignment",
     "output_type": "error",
     "traceback": [
      "\u001b[0;31m---------------------------------------------------------------------------\u001b[0m",
      "\u001b[0;31mUnboundLocalError\u001b[0m                         Traceback (most recent call last)",
      "\u001b[0;32m<ipython-input-9-5ff7fdb2eebd>\u001b[0m in \u001b[0;36m<module>\u001b[0;34m\u001b[0m\n\u001b[1;32m     15\u001b[0m \u001b[0;34m\u001b[0m\u001b[0m\n\u001b[1;32m     16\u001b[0m     \u001b[0;32mreturn\u001b[0m \u001b[0mtop_grossing_stars\u001b[0m\u001b[0;34m\u001b[0m\u001b[0;34m\u001b[0m\u001b[0m\n\u001b[0;32m---> 17\u001b[0;31m \u001b[0mtop_grossing_stars\u001b[0m\u001b[0;34m(\u001b[0m\u001b[0;34m)\u001b[0m\u001b[0;34m\u001b[0m\u001b[0;34m\u001b[0m\u001b[0m\n\u001b[0m",
      "\u001b[0;32m<ipython-input-9-5ff7fdb2eebd>\u001b[0m in \u001b[0;36mtop_grossing_stars\u001b[0;34m()\u001b[0m\n\u001b[1;32m      8\u001b[0m     \u001b[0;32mfor\u001b[0m \u001b[0mnum\u001b[0m \u001b[0;32min\u001b[0m \u001b[0mrange\u001b[0m\u001b[0;34m(\u001b[0m\u001b[0mint\u001b[0m\u001b[0;34m(\u001b[0m \u001b[0mlen\u001b[0m\u001b[0;34m(\u001b[0m\u001b[0mgrossing_stars\u001b[0m\u001b[0;34m)\u001b[0m \u001b[0;34m/\u001b[0m \u001b[0;36m5\u001b[0m \u001b[0;34m)\u001b[0m\u001b[0;34m)\u001b[0m\u001b[0;34m:\u001b[0m\u001b[0;34m\u001b[0m\u001b[0;34m\u001b[0m\u001b[0m\n\u001b[1;32m      9\u001b[0m \u001b[0;34m\u001b[0m\u001b[0m\n\u001b[0;32m---> 10\u001b[0;31m         rating = dict([('rank', grossing_stars[i]), ('name', grossing_stars[i+1]), \n\u001b[0m\u001b[1;32m     11\u001b[0m                        \u001b[0;34m(\u001b[0m\u001b[0;34m'WW_box'\u001b[0m\u001b[0;34m,\u001b[0m \u001b[0mgrossing_stars\u001b[0m\u001b[0;34m[\u001b[0m\u001b[0mi\u001b[0m\u001b[0;34m+\u001b[0m\u001b[0;36m2\u001b[0m\u001b[0;34m]\u001b[0m\u001b[0;34m)\u001b[0m\u001b[0;34m,\u001b[0m \u001b[0;34m(\u001b[0m\u001b[0;34m'num_movies'\u001b[0m\u001b[0;34m,\u001b[0m \u001b[0mgrossing_stars\u001b[0m\u001b[0;34m[\u001b[0m\u001b[0mi\u001b[0m\u001b[0;34m+\u001b[0m\u001b[0;36m3\u001b[0m\u001b[0;34m]\u001b[0m\u001b[0;34m)\u001b[0m\u001b[0;34m,\u001b[0m\u001b[0;34m\u001b[0m\u001b[0;34m\u001b[0m\u001b[0m\n\u001b[1;32m     12\u001b[0m                        ('avg_per_movie', grossing_stars[i+4])])\n",
      "\u001b[0;31mUnboundLocalError\u001b[0m: local variable 'i' referenced before assignment"
     ]
    }
   ],
   "source": [
    "def top_grossing_stars():\n",
    "    \n",
    "    html_page = requests.get(\"https://www.the-numbers.com/box-office-star-records/worldwide/lifetime-acting/top-grossing-leading-stars\")\n",
    "    soup = BeautifulSoup(html_page.content, \"html.parser\")\n",
    "    div = soup.find(\"tbody\")\n",
    "    grossing_stars = list(map(lambda x: x.text, div.findAll('td')))\n",
    "    \n",
    "    for num in range(int( len(grossing_stars) / 5 )):\n",
    "\n",
    "        rating = dict([('rank', grossing_stars[i]), ('name', grossing_stars[i+1]), \n",
    "                       ('WW_box', grossing_stars[i+2]), ('num_movies', grossing_stars[i+3]),\n",
    "                       ('avg_per_movie', grossing_stars[i+4])])\n",
    "        i += 5\n",
    "        top_grossing_stars.append(rating)\n",
    "    \n",
    "    return top_grossing_stars\n",
    "top_grossing_stars()"
   ]
  },
  {
   "cell_type": "code",
   "execution_count": null,
   "metadata": {},
   "outputs": [],
   "source": []
  }
 ],
 "metadata": {
  "kernelspec": {
   "display_name": "Python 3",
   "language": "python",
   "name": "python3"
  },
  "language_info": {
   "codemirror_mode": {
    "name": "ipython",
    "version": 3
   },
   "file_extension": ".py",
   "mimetype": "text/x-python",
   "name": "python",
   "nbconvert_exporter": "python",
   "pygments_lexer": "ipython3",
   "version": "3.7.3"
  }
 },
 "nbformat": 4,
 "nbformat_minor": 2
}
