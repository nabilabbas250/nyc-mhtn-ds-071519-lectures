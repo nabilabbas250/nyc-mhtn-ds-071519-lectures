{
 "cells": [
  {
   "cell_type": "code",
   "execution_count": 1,
   "metadata": {},
   "outputs": [],
   "source": [
    "import requests\n",
    "import config\n",
    "import mysql.connector\n",
    "import json\n",
    "from bs4 import BeautifulSoup\n",
    "import time"
   ]
  },
  {
   "cell_type": "code",
   "execution_count": 2,
   "metadata": {},
   "outputs": [],
   "source": [
    "# nextSibling, list()[0], findAll, previousSibling, parent, children"
   ]
  },
  {
   "cell_type": "code",
   "execution_count": 3,
   "metadata": {},
   "outputs": [],
   "source": [
    "html_page = requests.get(\"https://www.the-numbers.com/market/mpaa-ratings\")\n",
    "soup = BeautifulSoup(html_page.content, \"html.parser\")\n"
   ]
  },
  {
   "cell_type": "code",
   "execution_count": 4,
   "metadata": {},
   "outputs": [
    {
     "data": {
      "text/plain": [
       "['PG-13', 'R', 'PG', 'G', 'Not Rated', 'NC-17', 'Open', 'GP', 'M/PG']"
      ]
     },
     "execution_count": 4,
     "metadata": {},
     "output_type": "execute_result"
    }
   ],
   "source": [
    "#table = div.findAll(\"td\", class_=\"data\")\n",
    "#table = div.findAll()\n",
    "\n",
    "div = soup.find(\"table\")\n",
    "\n",
    "list(map(lambda x: x.text, div.findAll('a')))"
   ]
  },
  {
   "cell_type": "code",
   "execution_count": 5,
   "metadata": {},
   "outputs": [
    {
     "data": {
      "text/plain": [
       "['1',\n",
       " 'PG-13',\n",
       " '3,060',\n",
       " '$109,330,688,952',\n",
       " '15,827,722,937',\n",
       " '47.93%',\n",
       " '2',\n",
       " 'R',\n",
       " '5,165',\n",
       " '$60,559,241,440',\n",
       " '9,327,476,688',\n",
       " '26.55%',\n",
       " '3',\n",
       " 'PG',\n",
       " '1,424',\n",
       " '$46,713,440,785',\n",
       " '6,749,759,237',\n",
       " '20.48%',\n",
       " '4',\n",
       " 'G',\n",
       " '377',\n",
       " '$9,540,005,420',\n",
       " '1,529,977,839',\n",
       " '4.18%',\n",
       " '5',\n",
       " 'Not Rated',\n",
       " '5,187',\n",
       " '$1,761,674,886',\n",
       " '267,618,935',\n",
       " '0.77%',\n",
       " '6',\n",
       " 'NC-17',\n",
       " '24',\n",
       " '$44,850,139',\n",
       " '8,398,057',\n",
       " '0.02%',\n",
       " '7',\n",
       " 'Open',\n",
       " '5',\n",
       " '$5,489,687',\n",
       " '980,320',\n",
       " '0.00%',\n",
       " '8',\n",
       " 'GP',\n",
       " '6',\n",
       " '$274,799',\n",
       " '34,653',\n",
       " '0.00%',\n",
       " '9',\n",
       " 'M/PG',\n",
       " '1',\n",
       " '$83,305',\n",
       " '11,107',\n",
       " '0.00%']"
      ]
     },
     "execution_count": 5,
     "metadata": {},
     "output_type": "execute_result"
    }
   ],
   "source": [
    "share_rating = list(map(lambda x: x.text, div.findAll('td')))\n",
    "share_rating"
   ]
  },
  {
   "cell_type": "code",
   "execution_count": 15,
   "metadata": {},
   "outputs": [
    {
     "data": {
      "text/plain": [
       "[{'rank': '1',\n",
       "  'rating': 'PG-13',\n",
       "  'movies': '3,060',\n",
       "  'total': '$109,330,688,952',\n",
       "  'tickets': '15,827,722,937',\n",
       "  'percent': '47.93%'},\n",
       " {'rank': '2',\n",
       "  'rating': 'R',\n",
       "  'movies': '5,165',\n",
       "  'total': '$60,559,241,440',\n",
       "  'tickets': '9,327,476,688',\n",
       "  'percent': '26.55%'},\n",
       " {'rank': '3',\n",
       "  'rating': 'PG',\n",
       "  'movies': '1,424',\n",
       "  'total': '$46,713,440,785',\n",
       "  'tickets': '6,749,759,237',\n",
       "  'percent': '20.48%'},\n",
       " {'rank': '4',\n",
       "  'rating': 'G',\n",
       "  'movies': '377',\n",
       "  'total': '$9,540,005,420',\n",
       "  'tickets': '1,529,977,839',\n",
       "  'percent': '4.18%'},\n",
       " {'rank': '5',\n",
       "  'rating': 'Not Rated',\n",
       "  'movies': '5,187',\n",
       "  'total': '$1,761,674,886',\n",
       "  'tickets': '267,618,935',\n",
       "  'percent': '0.77%'},\n",
       " {'rank': '6',\n",
       "  'rating': 'NC-17',\n",
       "  'movies': '24',\n",
       "  'total': '$44,850,139',\n",
       "  'tickets': '8,398,057',\n",
       "  'percent': '0.02%'},\n",
       " {'rank': '7',\n",
       "  'rating': 'Open',\n",
       "  'movies': '5',\n",
       "  'total': '$5,489,687',\n",
       "  'tickets': '980,320',\n",
       "  'percent': '0.00%'},\n",
       " {'rank': '8',\n",
       "  'rating': 'GP',\n",
       "  'movies': '6',\n",
       "  'total': '$274,799',\n",
       "  'tickets': '34,653',\n",
       "  'percent': '0.00%'},\n",
       " {'rank': '9',\n",
       "  'rating': 'M/PG',\n",
       "  'movies': '1',\n",
       "  'total': '$83,305',\n",
       "  'tickets': '11,107',\n",
       "  'percent': '0.00%'}]"
      ]
     },
     "execution_count": 15,
     "metadata": {},
     "output_type": "execute_result"
    }
   ],
   "source": [
    "share_per_rating = []\n",
    "i = 0\n",
    "# rating_range = int( len(share_rating) / 6 )\n",
    "# rating_range = len(share_rating) / 6\n",
    "\n",
    "for num in range(int( len(share_rating) / 6 )):\n",
    "\n",
    "    rating = dict([('rank', share_rating[i]), ('rating', share_rating[i+1]), \n",
    "                   ('movies', share_rating[i+2]), ('total', share_rating[i+3]),\n",
    "                   ('tickets', share_rating[i+4]), ('percent', share_rating[i+5])])\n",
    "    i += 6\n",
    "    share_per_rating.append(rating)\n",
    "    \n",
    "share_per_rating\n"
   ]
  },
  {
   "cell_type": "code",
   "execution_count": 7,
   "metadata": {},
   "outputs": [
    {
     "data": {
      "text/plain": [
       "[{'rank': '1',\n",
       "  'rating': 'PG-13',\n",
       "  'movies': '3,060',\n",
       "  'total': '$109,330,688,181',\n",
       "  'tickets': '15,827,722,852',\n",
       "  'percent': '47.93%'},\n",
       " {'rank': '2',\n",
       "  'rating': 'R',\n",
       "  'movies': '5,165',\n",
       "  'total': '$60,559,478,067',\n",
       "  'tickets': '9,327,502,663',\n",
       "  'percent': '26.55%'},\n",
       " {'rank': '3',\n",
       "  'rating': 'PG',\n",
       "  'movies': '1,424',\n",
       "  'total': '$46,713,440,785',\n",
       "  'tickets': '6,749,759,237',\n",
       "  'percent': '20.48%'},\n",
       " {'rank': '4',\n",
       "  'rating': 'G',\n",
       "  'movies': '377',\n",
       "  'total': '$9,540,005,420',\n",
       "  'tickets': '1,529,977,839',\n",
       "  'percent': '4.18%'},\n",
       " {'rank': '5',\n",
       "  'rating': 'Not Rated',\n",
       "  'movies': '5,187',\n",
       "  'total': '$1,761,674,886',\n",
       "  'tickets': '267,618,935',\n",
       "  'percent': '0.77%'},\n",
       " {'rank': '6',\n",
       "  'rating': 'NC-17',\n",
       "  'movies': '24',\n",
       "  'total': '$44,850,139',\n",
       "  'tickets': '8,398,057',\n",
       "  'percent': '0.02%'},\n",
       " {'rank': '7',\n",
       "  'rating': 'Open',\n",
       "  'movies': '5',\n",
       "  'total': '$5,489,687',\n",
       "  'tickets': '980,320',\n",
       "  'percent': '0.00%'},\n",
       " {'rank': '8',\n",
       "  'rating': 'GP',\n",
       "  'movies': '6',\n",
       "  'total': '$274,799',\n",
       "  'tickets': '34,653',\n",
       "  'percent': '0.00%'},\n",
       " {'rank': '9',\n",
       "  'rating': 'M/PG',\n",
       "  'movies': '1',\n",
       "  'total': '$83,305',\n",
       "  'tickets': '11,107',\n",
       "  'percent': '0.00%'}]"
      ]
     },
     "execution_count": 7,
     "metadata": {},
     "output_type": "execute_result"
    }
   ],
   "source": [
    "def mpaa_ratings(): #Market Share for Each MPAA Rating 1995-2019\n",
    "\n",
    "    html_page = requests.get(\"https://www.the-numbers.com/market/mpaa-ratings\")\n",
    "    soup = BeautifulSoup(html_page.content, \"html.parser\")\n",
    "    div = soup.find(\"table\")\n",
    "    share_rating = list(map(lambda x: x.text, div.findAll('td')))\n",
    "    \n",
    "    share_per_rating = []\n",
    "    i = 0\n",
    "    for num in range(int( len(share_rating) / 6 )):\n",
    "\n",
    "        rating = dict([('rank', share_rating[i]), ('rating', share_rating[i+1]), \n",
    "                       ('movies', share_rating[i+2]), ('total', share_rating[i+3]),\n",
    "                       ('tickets', share_rating[i+4]), ('percent', share_rating[i+5])])\n",
    "        i += 6\n",
    "        share_per_rating.append(rating)\n",
    "    return share_per_rating\n",
    "\n",
    "mpaa_ratings()\n",
    "    \n",
    "    "
   ]
  },
  {
   "cell_type": "code",
   "execution_count": 8,
   "metadata": {},
   "outputs": [
    {
     "ename": "NameError",
     "evalue": "name 'response' is not defined",
     "output_type": "error",
     "traceback": [
      "\u001b[0;31m---------------------------------------------------------------------------\u001b[0m",
      "\u001b[0;31mNameError\u001b[0m                                 Traceback (most recent call last)",
      "\u001b[0;32m<ipython-input-8-4d7640f3b560>\u001b[0m in \u001b[0;36m<module>\u001b[0;34m\u001b[0m\n\u001b[1;32m     22\u001b[0m \u001b[0;32mfor\u001b[0m \u001b[0mi\u001b[0m \u001b[0;32min\u001b[0m \u001b[0mrange\u001b[0m\u001b[0;34m(\u001b[0m\u001b[0;36m1\u001b[0m\u001b[0;34m,\u001b[0m\u001b[0;36m51\u001b[0m\u001b[0;34m)\u001b[0m\u001b[0;34m:\u001b[0m\u001b[0;34m\u001b[0m\u001b[0;34m\u001b[0m\u001b[0m\n\u001b[1;32m     23\u001b[0m \u001b[0;34m\u001b[0m\u001b[0m\n\u001b[0;32m---> 24\u001b[0;31m     \u001b[0;32mif\u001b[0m \u001b[0mresponse\u001b[0m\u001b[0;34m.\u001b[0m\u001b[0mstatus_code\u001b[0m \u001b[0;34m!=\u001b[0m \u001b[0;36m200\u001b[0m\u001b[0;34m:\u001b[0m\u001b[0;34m\u001b[0m\u001b[0;34m\u001b[0m\u001b[0m\n\u001b[0m\u001b[1;32m     25\u001b[0m         \u001b[0mprint\u001b[0m\u001b[0;34m(\u001b[0m\u001b[0;34mf'Break at {i}, status code: {response.status_code}'\u001b[0m\u001b[0;34m)\u001b[0m\u001b[0;34m\u001b[0m\u001b[0;34m\u001b[0m\u001b[0m\n\u001b[1;32m     26\u001b[0m         \u001b[0;32mbreak\u001b[0m\u001b[0;34m\u001b[0m\u001b[0;34m\u001b[0m\u001b[0m\n",
      "\u001b[0;31mNameError\u001b[0m: name 'response' is not defined"
     ]
    }
   ],
   "source": [
    "import requests\n",
    "from bs4 import BeautifulSoup\n",
    "import mysql.connector\n",
    "from mysql.connector import errorcode\n",
    "import datetime\n",
    "import config\n",
    "\n",
    "def populate_db(records, table_name):\n",
    "#         INSERT_STRING = (\"INSERT INTO {table_name} \"\n",
    "#                    \"(id, vote_average, title, genre_ids, revenue, budget, release_date) \"\n",
    "#                    \"VALUES (%s, %s, %s, %s)\")\n",
    "    INSERT_STR = f'INSERT INTO {table_name} (genre_id, movie_title, movie_id) ' \n",
    "    VALUE_STR = 'VALUES (%s, %s, %s)'\n",
    "    INSERT_QUERY = INSERT_STR + VALUE_STR\n",
    "    \n",
    "    for rec in less_info:\n",
    "        for genre_id in x['genre_ids']:\n",
    "            values = tuple((genre,rec['title'],rec['id']))\n",
    "            c.execute(INSERT_QUERY, values)\n",
    "            conn.commit()\n",
    "\n",
    "for i in range(1,51):\n",
    "    \n",
    "    if response.status_code != 200:\n",
    "        print(f'Break at {i}, status code: {response.status_code}')\n",
    "        break\n",
    "    \n",
    "    less_info = list(map(lambda x: {'id':x['id'],\n",
    "                                    'title': x['title'],\n",
    "                                    'genre_ids': x['genre_ids'],\n",
    "                                   },response.json()['results']))\n",
    "\n",
    "\n",
    "    populate_db(movie_info,'genre')\n",
    "c.close()\n",
    "conn.close()  \n",
    "    "
   ]
  },
  {
   "cell_type": "code",
   "execution_count": null,
   "metadata": {},
   "outputs": [],
   "source": []
  }
 ],
 "metadata": {
  "kernelspec": {
   "display_name": "Python 3",
   "language": "python",
   "name": "python3"
  },
  "language_info": {
   "codemirror_mode": {
    "name": "ipython",
    "version": 3
   },
   "file_extension": ".py",
   "mimetype": "text/x-python",
   "name": "python",
   "nbconvert_exporter": "python",
   "pygments_lexer": "ipython3",
   "version": "3.7.3"
  }
 },
 "nbformat": 4,
 "nbformat_minor": 2
}
