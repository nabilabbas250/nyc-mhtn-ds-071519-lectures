{
 "cells": [
  {
   "cell_type": "markdown",
   "metadata": {},
   "source": [
    "# Yelp API - Lab\n",
    "\n",
    "\n",
    "\n",
    "## Introduction \n",
    "\n",
    "Now that we've seen how the Yelp API works, it's time to put those API and SQL skills to work in order to do some basic business analysis! Taking things a step further, you'll also independently explore how to perform pagination in order to retrieve a full results set from the Yelp API!\n",
    "\n",
    "## Objectives\n",
    "\n",
    "You will be able to:\n",
    "* Create a DB on AWS to store information from Yelp about businesses\n",
    "* Create HTTP requests to get data from Yelp API\n",
    "* Parse HTTP responses and insert the information into your DB\n",
    "* Perform pagination to retrieve troves of data!\n",
    "* Write SQL queries to answer questions about your data "
   ]
  },
  {
   "cell_type": "markdown",
   "metadata": {},
   "source": [
    "ETL pipeline - \n",
    "Extract, \n",
    "Transform (python to make the data what we want), \n",
    "Load (use sql so we have the data for us to access and view)\n",
    "\n",
    "business id foreign key for business??"
   ]
  },
  {
   "cell_type": "code",
   "execution_count": null,
   "metadata": {},
   "outputs": [],
   "source": []
  },
  {
   "cell_type": "markdown",
   "metadata": {},
   "source": [
    "## Problem Introduction\n",
    "\n",
    "You've now worked with some API calls, but we have yet to see how to retrieve a more complete dataset in a programmatic manner and combine it with our other data skills. In this lab you will get data from the Yelp API, store that data in a SQL Database on AWS, and write queries to answer follow-up questions. \n",
    "\n",
    "\n",
    "### Outline:\n",
    "\n",
    "1. Determine which pieces of information you need to pull from the Yelp API.\n",
    "\n",
    "2. Create a DB schema with 2 tables. One for the businesses and one for the reviews.\n",
    "\n",
    "3. Create Python functions to:\n",
    "  - Perform a search of businesses using pagination\n",
    "  - Parse the API response for specific data points\n",
    "  - Insert the data into your AWS DB\n",
    "\n",
    "4. Use the functions above in a loop that will paginate over the results to retrieve all of the results.\n",
    "\n",
    "5. Create functions to:\n",
    "  - Retrieve the reviews data of one business\n",
    "  - Parse the reviews response for specific review data\n",
    "  - Insert the review data into the DB\n",
    "\n",
    "6. Using SQL, query all of the business IDs. Using the 3 Python functions you've created, run your business IDs through a loop to get the reviews for each business and insert them into your DB.\n",
    "\n",
    "7. Write SQL queries to answer the following questions about your data.\n",
    "\n",
    "\n",
    "Bonus Steps:  \n",
    "- Place your helper functions in a package so that your final notebook only has the major steps listed.\n",
    "- Rewrite your business search functions to be able take an argument for the type of business you are searching for.\n",
    "- Add another group of businesses to your database.\n"
   ]
  },
  {
   "cell_type": "markdown",
   "metadata": {},
   "source": [
    " \n",
    "## SQL Questions:\n",
    "\n",
    "- What are the 5 businesses with the highest average ratings?\n",
    "- What are the 5 businesses with the lowest average ratings?\n",
    "- What is the average rating of restaurants that have a price label of one dollar sign? Two dollar signs? Three dollar signs? \n",
    "- How many businesses have a rating above 4.5?\n",
    "- How many businesses have a rating below 3?\n",
    "- Return the text of the oldest review in the table.\n",
    "- Return the overall rating of the business with the oldest review. \n",
    "- Find the highest rated business and return text of the newest review of the three.\n",
    "- Find the lowest rated business and return text of the newest review of the three.  \n"
   ]
  },
  {
   "cell_type": "code",
   "execution_count": 49,
   "metadata": {},
   "outputs": [],
   "source": [
    "DB_NAME = 'yelp_practice'\n",
    "cnx = mysql.connector.connect(\n",
    "    host = config.host,\n",
    "    user = config.user,\n",
    "    passwd = config.password,\n",
    "    database = DB_NAME\n",
    ")\n",
    "cursor = cnx.cursor()"
   ]
  },
  {
   "cell_type": "code",
   "execution_count": 36,
   "metadata": {},
   "outputs": [],
   "source": [
    "# import sqlite3\n",
    "import pandas as pd"
   ]
  },
  {
   "cell_type": "code",
   "execution_count": 37,
   "metadata": {},
   "outputs": [],
   "source": [
    "# conn = sqlite3.connect('data.sqlite', detect_types=sqlite3.PARSE_COLNAMES)\n",
    "# cur = conn.cursor()"
   ]
  },
  {
   "cell_type": "code",
   "execution_count": 50,
   "metadata": {},
   "outputs": [
    {
     "data": {
      "text/html": [
       "<div>\n",
       "<style scoped>\n",
       "    .dataframe tbody tr th:only-of-type {\n",
       "        vertical-align: middle;\n",
       "    }\n",
       "\n",
       "    .dataframe tbody tr th {\n",
       "        vertical-align: top;\n",
       "    }\n",
       "\n",
       "    .dataframe thead th {\n",
       "        text-align: right;\n",
       "    }\n",
       "</style>\n",
       "<table border=\"1\" class=\"dataframe\">\n",
       "  <thead>\n",
       "    <tr style=\"text-align: right;\">\n",
       "      <th></th>\n",
       "      <th>restaurant_id</th>\n",
       "      <th>name</th>\n",
       "      <th>avg_rating</th>\n",
       "      <th>price</th>\n",
       "    </tr>\n",
       "  </thead>\n",
       "  <tbody>\n",
       "    <tr>\n",
       "      <th>0</th>\n",
       "      <td>-0YTqofxupHzmd9SbKhjXw</td>\n",
       "      <td>Los Verdes</td>\n",
       "      <td>4</td>\n",
       "      <td>$</td>\n",
       "    </tr>\n",
       "    <tr>\n",
       "      <th>1</th>\n",
       "      <td>-PQ_yAucEcu3xQxsKzJWtw</td>\n",
       "      <td>5 Napkin Burger</td>\n",
       "      <td>4</td>\n",
       "      <td>$$</td>\n",
       "    </tr>\n",
       "    <tr>\n",
       "      <th>2</th>\n",
       "      <td>-V0rOWj65nEwvC3uf4wWtw</td>\n",
       "      <td>AwesomeSauce</td>\n",
       "      <td>4</td>\n",
       "      <td>$$</td>\n",
       "    </tr>\n",
       "    <tr>\n",
       "      <th>3</th>\n",
       "      <td>0QXk9toOB4m3c2jfCX-a7g</td>\n",
       "      <td>Pelicana Chicken</td>\n",
       "      <td>4</td>\n",
       "      <td>$$$</td>\n",
       "    </tr>\n",
       "    <tr>\n",
       "      <th>4</th>\n",
       "      <td>1ExwosnCMtb7D3SF5ovo6w</td>\n",
       "      <td>The Pomeroy</td>\n",
       "      <td>4</td>\n",
       "      <td>$$</td>\n",
       "    </tr>\n",
       "  </tbody>\n",
       "</table>\n",
       "</div>"
      ],
      "text/plain": [
       "            restaurant_id              name  avg_rating price\n",
       "0  -0YTqofxupHzmd9SbKhjXw        Los Verdes           4     $\n",
       "1  -PQ_yAucEcu3xQxsKzJWtw   5 Napkin Burger           4    $$\n",
       "2  -V0rOWj65nEwvC3uf4wWtw      AwesomeSauce           4    $$\n",
       "3  0QXk9toOB4m3c2jfCX-a7g  Pelicana Chicken           4   $$$\n",
       "4  1ExwosnCMtb7D3SF5ovo6w       The Pomeroy           4    $$"
      ]
     },
     "execution_count": 50,
     "metadata": {},
     "output_type": "execute_result"
    }
   ],
   "source": [
    "cursor.execute(\"\"\"SELECT * FROM businesses WHERE avg_rating = 4\"\"\")\n",
    "df = pd.DataFrame(cursor.fetchall()) #Take results and create dataframe\n",
    "df.columns = [i[0] for i in cursor.description]\n",
    "df.head()"
   ]
  },
  {
   "cell_type": "code",
   "execution_count": null,
   "metadata": {},
   "outputs": [],
   "source": [
    "\n",
    "query = (\"SELECT first_name, last_name, hire_date FROM employees \"\n",
    "         \"WHERE hire_date BETWEEN %s AND %s\")\n",
    "\n",
    "hire_start = datetime.date(1999, 1, 1)\n",
    "hire_end = datetime.date(1999, 12, 31)\n",
    "\n",
    "cursor.execute(query, (hire_start, hire_end))\n",
    "\n",
    "for (first_name, last_name, hire_date) in cursor:\n",
    "  print(\"{}, {} was hired on {:%d %b %Y}\".format(\n",
    "    last_name, first_name, hire_date))\n",
    "\n",
    "cursor.close()\n",
    "cnx.close()"
   ]
  },
  {
   "cell_type": "markdown",
   "metadata": {},
   "source": [
    "\n"
   ]
  },
  {
   "cell_type": "markdown",
   "metadata": {},
   "source": [
    "## Part I - Set up the DB\n",
    "\n",
    "Start by reading SQL questions above to get an understanding of the data you will need. Then, read the documentation of Yelp API to understand what data you will receive in the response.  \n",
    "\n",
    "\n",
    "Now that you are familiar with the data, create your SQL queries to create the DB and the appropriate tables. "
   ]
  },
  {
   "cell_type": "code",
   "execution_count": 1,
   "metadata": {
    "scrolled": true
   },
   "outputs": [
    {
     "name": "stdout",
     "output_type": "stream",
     "text": [
      "Requirement already satisfied: mysql-connector in /Users/flatironschool/anaconda3/lib/python3.7/site-packages (2.2.9)\r\n"
     ]
    }
   ],
   "source": [
    "## Connect to DB server on AWS\n",
    "!pip install mysql-connector"
   ]
  },
  {
   "cell_type": "code",
   "execution_count": 8,
   "metadata": {},
   "outputs": [],
   "source": [
    "import mysql.connector\n",
    "import config"
   ]
  },
  {
   "cell_type": "code",
   "execution_count": 10,
   "metadata": {},
   "outputs": [
    {
     "data": {
      "text/plain": [
       "'nma18173'"
      ]
     },
     "execution_count": 10,
     "metadata": {},
     "output_type": "execute_result"
    }
   ],
   "source": [
    "config.password"
   ]
  },
  {
   "cell_type": "code",
   "execution_count": 6,
   "metadata": {},
   "outputs": [],
   "source": [
    "cnx = mysql.connector .connect(\n",
    "    host = config.host,\n",
    "    user = config.user,\n",
    "    passwd = config.password\n",
    ")\n",
    "\n",
    "cursor = cnx.cursor() #creating workspace"
   ]
  },
  {
   "cell_type": "markdown",
   "metadata": {},
   "source": [
    "The connection has been established, and cursor(workspace) has been made!"
   ]
  },
  {
   "cell_type": "code",
   "execution_count": 13,
   "metadata": {},
   "outputs": [],
   "source": [
    "## Create new DB \n",
    "\n",
    "import mysql.connector\n",
    "from mysql.connector import errorcode"
   ]
  },
  {
   "cell_type": "code",
   "execution_count": 14,
   "metadata": {},
   "outputs": [],
   "source": [
    "db_name = 'yelp_practice'\n",
    "\n",
    "def create_database(cursor, database):  #your cursor  and  name of your database\n",
    "    #connect to database instance\n",
    "    try:\n",
    "        cursor.execute(\n",
    "            \"CREATE DATABASE {} DEFAULT CHARACTER SET 'utf8'\".format(database))\n",
    "    except mysql.connector.Error as err:\n",
    "        print(\"Failed creating database: {}\".format(err))\n",
    "        exit(1)"
   ]
  },
  {
   "cell_type": "code",
   "execution_count": 17,
   "metadata": {},
   "outputs": [],
   "source": [
    "#Creating the database now\n",
    "try:\n",
    "    cursor.execute(\"USE {}\".format(db_name))\n",
    "except mysql.connector.Error as err:\n",
    "    print(\"Database {} does not exists.\".format(db_name))\n",
    "    if err.errno == errorcode.ER_BAD_DB_ERROR:\n",
    "        create_database(cursor, db_name)\n",
    "        print(\"Database {} created successfully.\".format(db_name))\n",
    "        cnx.database = db_name\n",
    "    else:\n",
    "        print(err)\n",
    "        exit(1)"
   ]
  },
  {
   "cell_type": "markdown",
   "metadata": {},
   "source": [
    "Create tables now"
   ]
  },
  {
   "cell_type": "code",
   "execution_count": 19,
   "metadata": {},
   "outputs": [],
   "source": [
    "DB_NAME = 'yelp_practice'\n",
    "TABLES = {}"
   ]
  },
  {
   "cell_type": "code",
   "execution_count": 20,
   "metadata": {},
   "outputs": [],
   "source": [
    "# Create a table for the Businesses\n",
    "\n",
    "TABLES['businesses'] = (\n",
    "    \"CREATE TABLE businesses (\"\n",
    "    \"  restaurant_id varchar(24) NOT NULL,\"                                                  \n",
    "    \"  name varchar(24),\"\n",
    "    \"  avg_rating int(2),\"\n",
    "    \"  price varchar(3),\"\n",
    "    \"  PRIMARY KEY (restaurant_id)\"\n",
    "    \") ENGINE=InnoDB\")\n"
   ]
  },
  {
   "cell_type": "code",
   "execution_count": 21,
   "metadata": {},
   "outputs": [],
   "source": [
    "# Create a table for the reviews\n",
    "\n",
    "TABLES['reviews'] = (\n",
    "    \"CREATE TABLE reviews (\"\n",
    "    \"  review_id varchar(33) NOT NULL,\"\n",
    "    \"  customer_id varchar(33) NOT NULL,\"\n",
    "    \"  review_rating int(11),\"\n",
    "    \"  review_date date,\"\n",
    "    \"  restaurant_id varchar(33) NOT NULL,\"\n",
    "    \"  PRIMARY KEY (restaurant_id,review_id), KEY restaurant_id (restaurant_id),\"\n",
    "    \"  CONSTRAINT reviews_ibfk_1 FOREIGN KEY (restaurant_id) \"\n",
    "    \"     REFERENCES businesses (restaurant_id) ON DELETE CASCADE\"\n",
    "    \") ENGINE=InnoDB\")"
   ]
  },
  {
   "cell_type": "code",
   "execution_count": 121,
   "metadata": {},
   "outputs": [],
   "source": [
    "cnx = mysql.connector.connect(\n",
    "    host = config.host,\n",
    "    user = config.user,\n",
    "    passwd = config.password,\n",
    "    database = DB_NAME\n",
    ")\n",
    "cursor = cnx.cursor()"
   ]
  },
  {
   "cell_type": "markdown",
   "metadata": {},
   "source": [
    "Creating the tables now."
   ]
  },
  {
   "cell_type": "code",
   "execution_count": 26,
   "metadata": {},
   "outputs": [
    {
     "name": "stdout",
     "output_type": "stream",
     "text": [
      "Creating table businesses: OK\n",
      "Creating table reviews: OK\n"
     ]
    }
   ],
   "source": [
    "\n",
    "\n",
    "for table_name in TABLES:\n",
    "    table_description = TABLES[table_name]\n",
    "    try:\n",
    "        print(\"Creating table {}: \".format(table_name), end='')\n",
    "        cursor.execute(table_description)\n",
    "    except mysql.connector.Error as err:\n",
    "        if err.errno == errorcode.ER_TABLE_EXISTS_ERROR:\n",
    "            print(\"already exists.\")\n",
    "        else:\n",
    "            print(err.msg)\n",
    "    else:\n",
    "        print(\"OK\")\n",
    "\n",
    "cursor.close()\n",
    "cnx.close()\n",
    "\n"
   ]
  },
  {
   "cell_type": "markdown",
   "metadata": {},
   "source": [
    "## Part 2: Create ETL pipeline for the business data from the API"
   ]
  },
  {
   "cell_type": "code",
   "execution_count": 7,
   "metadata": {},
   "outputs": [],
   "source": [
    "import time\n",
    "import requests\n",
    "import json"
   ]
  },
  {
   "cell_type": "code",
   "execution_count": 55,
   "metadata": {},
   "outputs": [],
   "source": [
    "#State universal variables\n",
    "url1 = 'https://api.yelp.com/v3/businesses/search'\n",
    "# url2 = \n",
    "api_key = 'WMgB0oJS5hb-hZqNk4SxrM5YOv-WVzabBsyO1InWv-5_esbUAR2pKavVcXBRWiLYcLmrVukepWZGwyhZUP2VvSMhNpMuUonlpLAiUJlqlHFW3nCgP0LzzzC_3Rk6XXYx'\n",
    "headers = {'Authorization': 'Bearer {}'.format(api_key)}\n",
    "client_id = 'ZHIPHezpOPB8hoFciU-7rQ'\n",
    "term = 'burger'\n",
    "location = 'Astoria NY'\n",
    "url_params_bus = {  'term': term.replace(' ', '+'),\n",
    "                'location': location.replace(' ', '+'),\n",
    "                'limit' : 50\n",
    "             }\n",
    "response = requests.get(url1, headers=headers, params=url_params_bus)\n"
   ]
  },
  {
   "cell_type": "code",
   "execution_count": 51,
   "metadata": {},
   "outputs": [],
   "source": [
    "# write a function to make a call to the API\n",
    "#BUSINESS YELP CALL\n",
    "\n",
    "def business_yelp_call(url_params, api_key):\n",
    "    response = requests.get(url1, headers=headers, params=url_params)\n",
    "    \n",
    "    data = response.json()['businesses']\n",
    "    return data"
   ]
  },
  {
   "cell_type": "code",
   "execution_count": 126,
   "metadata": {},
   "outputs": [
    {
     "data": {
      "text/plain": [
       "'K54V9WW1Udbd3kJ6dWq5Sg'"
      ]
     },
     "execution_count": 126,
     "metadata": {},
     "output_type": "execute_result"
    }
   ],
   "source": [
    "#REVIEW YELP CALL\n",
    "\n",
    "def review_yelp_call(url_params, api_key, business_id):\n",
    "    url2 = f'https://api.yelp.com/v3/businesses/{business_id}/reviews'\n",
    "    response = requests.get(url2, headers=headers, params=url_params)\n",
    "    \n",
    "    data = response.json()['reviews']\n",
    "    return data\n",
    "\n",
    "business_id = '-0YTqofxupHzmd9SbKhjXw'\n",
    "review_yelp_call(url_params_bus, api_key, business_id)[0]['user']['id']\n"
   ]
  },
  {
   "cell_type": "code",
   "execution_count": 127,
   "metadata": {},
   "outputs": [],
   "source": [
    "# business_yelp_call(url_params_bus, api_key)[0]"
   ]
  },
  {
   "cell_type": "code",
   "execution_count": 78,
   "metadata": {},
   "outputs": [],
   "source": [
    "# write a function to parse the API response \n",
    "# so that you can easily insert the data in to the DB\n",
    "\n",
    "def all_results_businesses(url_params, api_key):\n",
    "    num = response.json()['total']\n",
    "    print('{} total matches found.'.format(num))\n",
    "    cur = 0\n",
    "    results = []\n",
    "    while cur < num and cur < 200:\n",
    "        url_params['offset'] = cur\n",
    "        results.extend(business_yelp_call(url_params_bus, api_key)) \n",
    "        #parse data and send to db instead of results list?\n",
    "        add_businesses(business_yelp_call(url_params_bus,api_key))\n",
    "        time.sleep(1) #Wait a second\n",
    "        cur += 50\n",
    "    return len(results), results\n",
    "\n"
   ]
  },
  {
   "cell_type": "code",
   "execution_count": 125,
   "metadata": {
    "scrolled": false
   },
   "outputs": [],
   "source": [
    "# all_results_businesses(url_params_bus, api_key)"
   ]
  },
  {
   "cell_type": "code",
   "execution_count": 118,
   "metadata": {},
   "outputs": [],
   "source": [
    "#QUERY BUSINESS AND REVIEW DATA\n",
    "\n",
    "def add_businesses(data):\n",
    "    for business in data:\n",
    "        if business['price']:\n",
    "            cursor.execute('''\n",
    "            INSERT IGNORE INTO businesses (restaurant_id, name, avg_rating, price)\n",
    "               VALUES( %s, %s, %s, %s)''', (business['id'], business['name'], business['rating'], business['price']))\n",
    "        else:\n",
    "            cursor.execute('''\n",
    "            INSERT IGNORE INTO businesses (restaurant_id, name, rating, price)\n",
    "               VALUES( %s, %s, %s, %s)''', (business['id'], business['name'], business['rating'], None))\n",
    "        \n",
    "        business_id = business['id']\n",
    "        add_reviews(review_yelp_call(url_params_bus, api_key, business_id))\n",
    "        cnx.commit()\n",
    "        #yelp_call_reviews(business['id'])"
   ]
  },
  {
   "cell_type": "code",
   "execution_count": 70,
   "metadata": {},
   "outputs": [],
   "source": [
    "# Write a function to take your parsed data and insert it into the DB\n",
    "\n",
    "# def add_businesses(data):\n",
    "#     for business in data:\n",
    "#         c.execute('''INSERT IGNORE INTO businesses\n",
    "#                     (restaurant_id, name, avg_rating, price)\n",
    "#                     VALUES( %s, %s, %s, %s)''', \n",
    "#                   (business['id'], business['name'], business['rating'], business['price']))\n",
    "    \n",
    "#     cnx.commit()\n",
    "\n",
    "\n",
    "\n"
   ]
  },
  {
   "cell_type": "code",
   "execution_count": 123,
   "metadata": {},
   "outputs": [],
   "source": [
    "#QUERY YELP REVIEWS TO DATA BASE\n",
    "\n",
    "def add_reviews(data):\n",
    "    for review in data:\n",
    "        cursor.execute('''INSERT IGNORE INTO reviews\n",
    "                    (review_id, customer_id, review_rating, review_date, restaurant_id)\n",
    "                    VALUES( %s, %s, %s, %s, %s)''', \n",
    "                  (review['id'], review['user']['id'], review['rating'], review['time_created'], business_id))\n",
    "    \n",
    "    cnx.commit()\n",
    "    \n"
   ]
  },
  {
   "cell_type": "code",
   "execution_count": 129,
   "metadata": {},
   "outputs": [],
   "source": [
    "cursor.close()\n",
    "cnx.close()"
   ]
  },
  {
   "cell_type": "markdown",
   "metadata": {},
   "source": [
    "## Part 3: Create ETL pipeline for the review data from the API"
   ]
  },
  {
   "cell_type": "code",
   "execution_count": null,
   "metadata": {},
   "outputs": [],
   "source": [
    "# write a query to pull back all of the business ids \n",
    "# you will need these ids to pull back the reviews for each restaurant"
   ]
  },
  {
   "cell_type": "code",
   "execution_count": null,
   "metadata": {},
   "outputs": [],
   "source": [
    "# write a function that take a business id \n",
    "# and makes a call to the API for reivews\n",
    "# then parse out the relevant information"
   ]
  },
  {
   "cell_type": "code",
   "execution_count": null,
   "metadata": {},
   "outputs": [],
   "source": [
    "# write a function to insert the parsed data into the reviews table"
   ]
  },
  {
   "cell_type": "code",
   "execution_count": null,
   "metadata": {},
   "outputs": [],
   "source": [
    "## Part 4: Write SQL queries that will answer the questions posed. "
   ]
  },
  {
   "cell_type": "markdown",
   "metadata": {},
   "source": [
    "###  Pagination\n",
    "\n",
    "Returning to the Yelp API, the [documentation](https://www.yelp.com/developers/documentation/v3/business_search) also provides us details regarding the API limits. These often include details about the number of requests a user is allowed to make within a specified time limit and the maximum number of results to be returned. In this case, we are told that any request has a maximum of 50 results per request and defaults to 20. Furthermore, any search will be limited to a total of 1000 results. To retrieve all 1000 of these results, we would have to page through the results piece by piece, retriving 50 at a time. Processes such as these are often refered to as pagination.\n",
    "\n",
    "Now that you have an initial response, you can examine the contents of the json container. For example, you might start with ```response.json().keys()```. Here, you'll see a key for `'total'`, which tells you the full number of matching results given your query parameters. Write a loop (or ideally a function) which then makes successive API calls using the offset parameter to retrieve all of the results (or 5000 for a particularly large result set) for the original query. As you do this, be mindful of how you store the data. \n",
    "\n",
    "**Note: be mindful of the API rate limits. You can only make 5000 requests per day, and APIs can make requests too fast. Start prototyping small before running a loop that could be faulty. You can also use time.sleep(n) to add delays. For more details see https://www.yelp.com/developers/documentation/v3/rate_limiting.**"
   ]
  },
  {
   "cell_type": "markdown",
   "metadata": {},
   "source": [
    "***Below is sample code that you can use to help you deal with the pagination parameter.***"
   ]
  },
  {
   "cell_type": "code",
   "execution_count": null,
   "metadata": {},
   "outputs": [],
   "source": [
    "# Your code here; use a function or loop to retrieve all the results from your original request\n",
    "import time\n",
    "\n",
    "def yelp_call(url_params, api_key):\n",
    "    url = 'https://api.yelp.com/v3/businesses/search'\n",
    "    headers = {'Authorization': 'Bearer {}'.format(api_key)}\n",
    "    response = requests.get(url, headers=headers, params=url_params)\n",
    "    \n",
    "    data = response.json()['businesses']\n",
    "    return data\n",
    "\n",
    "def all_results(url_params, api_key):\n",
    "    num = response.json()['total']\n",
    "    print('{} total matches found.'.format(num))\n",
    "    cur = 0\n",
    "    results = []\n",
    "    while cur < num and cur < 1000:\n",
    "        url_params['offset'] = cur\n",
    "        results.append(yelp_call(url_params, api_key)) \n",
    "        #parse data and send to db instead of results list?\n",
    "        time.sleep(1) #Wait a second\n",
    "        cur += 50\n",
    "    return df\n",
    "\n",
    "term = 'pizza'\n",
    "location = 'Astoria NY'\n",
    "url_params = {  'term': term.replace(' ', '+'),\n",
    "                'location': location.replace(' ', '+'),\n",
    "                'limit' : 50\n",
    "             }\n",
    "df = all_results(url_params, api_key)\n",
    "print(len(df))\n",
    "df.head()"
   ]
  },
  {
   "cell_type": "markdown",
   "metadata": {},
   "source": [
    "### Sample SQL Query \n",
    "\n",
    "Below is a SQL query to create a table.  Additionally here is a link to create a table with a foreign key.\n",
    "\n",
    "http://www.mysqltutorial.org/mysql-foreign-key/\n",
    "\n",
    "```CREATE TABLE IF NOT EXISTS tasks (\n",
    "    task_id INT AUTO_INCREMENT,\n",
    "    title VARCHAR(255) NOT NULL,\n",
    "    start_date DATE,\n",
    "    due_date DATE,\n",
    "    status TINYINT NOT NULL,\n",
    "    priority TINYINT NOT NULL,\n",
    "    description TEXT,\n",
    "    PRIMARY KEY (task_id)\n",
    ")  ENGINE=INNODB;```"
   ]
  },
  {
   "cell_type": "code",
   "execution_count": null,
   "metadata": {},
   "outputs": [],
   "source": []
  }
 ],
 "metadata": {
  "kernelspec": {
   "display_name": "Python 3",
   "language": "python",
   "name": "python3"
  },
  "language_info": {
   "codemirror_mode": {
    "name": "ipython",
    "version": 3
   },
   "file_extension": ".py",
   "mimetype": "text/x-python",
   "name": "python",
   "nbconvert_exporter": "python",
   "pygments_lexer": "ipython3",
   "version": "3.7.3"
  },
  "toc": {
   "base_numbering": 1,
   "nav_menu": {},
   "number_sections": false,
   "sideBar": true,
   "skip_h1_title": false,
   "title_cell": "Table of Contents",
   "title_sidebar": "Contents",
   "toc_cell": false,
   "toc_position": {},
   "toc_section_display": true,
   "toc_window_display": false
  }
 },
 "nbformat": 4,
 "nbformat_minor": 2
}
